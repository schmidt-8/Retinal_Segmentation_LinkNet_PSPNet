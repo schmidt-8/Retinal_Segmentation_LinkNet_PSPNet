{
 "cells": [
  {
   "cell_type": "code",
   "execution_count": 85,
   "id": "d4a7a7a7-0408-41d5-857a-67823cca0d30",
   "metadata": {},
   "outputs": [],
   "source": [
    "import cv2\n",
    "import numpy as np\n",
    "from PIL import Image\n",
    "import matplotlib.pyplot as plt\n",
    "from scipy.io import loadmat, savemat\n",
    "\n",
    "import os\n",
    "import shutil\n",
    "import random"
   ]
  },
  {
   "cell_type": "code",
   "execution_count": null,
   "id": "41196708-06b1-4f23-8823-d7d152bb7b15",
   "metadata": {},
   "outputs": [],
   "source": [
    "folder_path = os.path.dirname(os.path.dirname(os.getcwd()))\n",
    "folder_path"
   ]
  },
  {
   "cell_type": "code",
   "execution_count": 86,
   "id": "d0891c99-0cd6-4ddf-84b9-80ba2a380e1c",
   "metadata": {},
   "outputs": [],
   "source": [
    "def crop_image_half(image, flag):\n",
    "        '''\n",
    "        Crops the image, cutting from height and width depending on crop_perc.\n",
    "        '''\n",
    "        if flag == 'L':\n",
    "            height, width = image.shape[:2]\n",
    "            w_crop = int((50/100*width))\n",
    "            return image[:, :w_crop]\n",
    "        if flag == 'R':\n",
    "            height, width = image.shape[:2]\n",
    "            w_crop = int((50/100*width))\n",
    "            return image[:, w_crop:]"
   ]
  },
  {
   "cell_type": "code",
   "execution_count": 87,
   "id": "aa3a4d5e-41b8-4123-bc33-82cb6846bf32",
   "metadata": {},
   "outputs": [],
   "source": [
    "directory_path_labels = r''+folder_path+r'\\NewImages\\Dataset-RIMONE\\Dataset-RIMONE\\SegmentationsAverage-GroundTruth'\n",
    "targer_dir_path_labels = r''+folder_path+r'\\Data\\Test_gt'\n",
    "filenames_labels = os.listdir(directory_path_labels)\n",
    "filenames_labels_target = os.listdir(targer_dir_path_labels)"
   ]
  },
  {
   "cell_type": "code",
   "execution_count": 88,
   "id": "f9c5e327-d4de-4771-9a2e-45c5bd89eeb5",
   "metadata": {},
   "outputs": [],
   "source": [
    "directory_path_images = r''+folder_path+r'\\NewImages\\Dataset-RIMONE\\Dataset-RIMONE\\images'\n",
    "targer_dir_path_images = r''+folder_path+r'\\Data\\Test'\n",
    "filenames_images = os.listdir(directory_path_images)\n",
    "filenames_images_target = os.listdir(targer_dir_path_images)"
   ]
  },
  {
   "cell_type": "code",
   "execution_count": 12,
   "id": "c59612e0-c502-4779-a274-7898b0ea2a14",
   "metadata": {},
   "outputs": [
    {
     "name": "stdout",
     "output_type": "stream",
     "text": [
      "001\n",
      "002\n",
      "003\n",
      "004\n",
      "005\n",
      "006\n",
      "007\n",
      "008\n",
      "009\n",
      "010\n",
      "011\n",
      "012\n",
      "013\n",
      "014\n",
      "015\n",
      "016\n",
      "017\n",
      "018\n",
      "019\n",
      "020\n",
      "021\n",
      "022\n",
      "023\n",
      "024\n",
      "025\n",
      "026\n",
      "027\n",
      "028\n",
      "029\n",
      "030\n",
      "031\n",
      "032\n",
      "033\n",
      "034\n",
      "035\n",
      "036\n",
      "037\n",
      "038\n",
      "039\n",
      "040\n",
      "041\n",
      "042\n",
      "043\n",
      "044\n",
      "045\n",
      "046\n",
      "047\n",
      "048\n",
      "049\n",
      "050\n",
      "051\n",
      "052\n",
      "053\n",
      "054\n",
      "055\n",
      "056\n",
      "057\n",
      "058\n",
      "059\n",
      "060\n",
      "061\n",
      "062\n",
      "063\n",
      "064\n",
      "065\n",
      "066\n",
      "067\n",
      "068\n",
      "069\n",
      "070\n",
      "071\n",
      "072\n",
      "073\n",
      "074\n",
      "075\n",
      "076\n",
      "077\n",
      "078\n",
      "079\n",
      "080\n",
      "081\n",
      "082\n",
      "083\n",
      "084\n",
      "085\n",
      "086\n",
      "087\n",
      "088\n",
      "089\n",
      "090\n",
      "091\n",
      "092\n",
      "093\n",
      "094\n",
      "095\n",
      "096\n",
      "097\n",
      "098\n",
      "099\n",
      "100\n",
      "101\n",
      "102\n",
      "103\n",
      "104\n",
      "105\n",
      "106\n",
      "107\n",
      "108\n",
      "109\n",
      "110\n",
      "111\n",
      "112\n",
      "113\n",
      "114\n",
      "115\n",
      "116\n",
      "117\n",
      "118\n",
      "119\n",
      "120\n"
     ]
    }
   ],
   "source": [
    "new_filename_counter = 1\n",
    "new_filename = '000'\n",
    "\n",
    "for i in range(120):\n",
    "    if new_filename_counter<10:\n",
    "        new_filename = '00' + str(new_filename_counter)\n",
    "    if new_filename_counter>=10 and new_filename_counter<100: \n",
    "        new_filename = '0' + str(new_filename_counter)\n",
    "    if new_filename_counter>=100:\n",
    "        new_filename = str(new_filename_counter)\n",
    "    print(new_filename)\n",
    "    new_filename_counter +=1"
   ]
  },
  {
   "cell_type": "code",
   "execution_count": 89,
   "id": "8dcfb608-1b5c-4151-b861-c041e5ea569f",
   "metadata": {},
   "outputs": [],
   "source": [
    "new_filename_counter = 0\n",
    "new_filename = '000'\n",
    "\n",
    "\n",
    "for filename_img, filename_lab in zip(filenames_images, filenames_labels):\n",
    "    new_filename_counter +=1\n",
    "    if new_filename_counter<10:\n",
    "        new_filename = '00' + str(new_filename_counter)\n",
    "    if new_filename_counter>=10 and new_filename_counter<100: \n",
    "        new_filename = '0' + str(new_filename_counter)\n",
    "    if new_filename_counter>=100:\n",
    "        new_filename = str(new_filename_counter)\n",
    "    \n",
    "    src_image = directory_path_images +'\\/'+ filename_img\n",
    "    trg_image = targer_dir_path_images + '\\/' + new_filename + '.jpg'\n",
    "\n",
    "    src_label = directory_path_labels +'\\/'+ filename_lab\n",
    "    trg_label = targer_dir_path_labels + '\\/' + new_filename + '.mat'\n",
    "\n",
    "    image = cv2.imread(src_image)\n",
    "    label = cv2.imread(src_label)\n",
    "\n",
    "    label = cv2.cvtColor(label, cv2.COLOR_BGR2GRAY)\n",
    "\n",
    "    label[(label>0) & (label<250)] = 1\n",
    "    label[label>250] = 2\n",
    "    \n",
    "    if filename_img.find('L')!= -1:\n",
    "        image = crop_image_half(image, 'L')\n",
    "    if filename_img.find('R') != -1:\n",
    "        image = crop_image_half(image, 'R')\n",
    "\n",
    "    cv2.imwrite(trg_image, image)\n",
    "    savemat(trg_label, {'mask':label})"
   ]
  },
  {
   "cell_type": "code",
   "execution_count": 77,
   "id": "04e5b7d7-a5b3-4cd1-9195-1d272534716e",
   "metadata": {},
   "outputs": [],
   "source": [
    "mat01 = cv2.imread(r''+folder_path+r'\\NewImages\\Dataset-RIMONE\\Dataset-RIMONE\\SegmentationsAverage-GroundTruth\\G-1-L.png')\n",
    "image = cv2.imread(r''+folder_path+r'\\NewImages\\Dataset-RIMONE\\Dataset-RIMONE\\images\\G-1-L.jpg')"
   ]
  },
  {
   "cell_type": "code",
   "execution_count": 78,
   "id": "3ec3dbe7-abfa-453d-9e65-db237cbb9526",
   "metadata": {},
   "outputs": [
    {
     "data": {
      "text/plain": [
       "numpy.ndarray"
      ]
     },
     "execution_count": 78,
     "metadata": {},
     "output_type": "execute_result"
    }
   ],
   "source": [
    "type(mat01)"
   ]
  },
  {
   "cell_type": "code",
   "execution_count": 79,
   "id": "2cd12f32-e32c-4f67-aedf-a30a99f51b3e",
   "metadata": {},
   "outputs": [],
   "source": [
    "mat01 = cv2.cvtColor(mat01, cv2.COLOR_BGR2GRAY)"
   ]
  },
  {
   "cell_type": "code",
   "execution_count": 80,
   "id": "b7299ca1-bd0a-40c8-adbc-7edaf2ed6ca3",
   "metadata": {},
   "outputs": [
    {
     "data": {
      "text/plain": [
       "(1424, 2144, 3)"
      ]
     },
     "execution_count": 80,
     "metadata": {},
     "output_type": "execute_result"
    }
   ],
   "source": [
    "image.shape"
   ]
  },
  {
   "cell_type": "code",
   "execution_count": 81,
   "id": "4b98507d-dc22-4b88-b787-a6055b919341",
   "metadata": {},
   "outputs": [
    {
     "data": {
      "text/plain": [
       "(1424, 1072)"
      ]
     },
     "execution_count": 81,
     "metadata": {},
     "output_type": "execute_result"
    }
   ],
   "source": [
    "mat01.shape"
   ]
  },
  {
   "cell_type": "code",
   "execution_count": 67,
   "id": "9982039e-cae2-4a9a-9a25-f3fe3093172e",
   "metadata": {},
   "outputs": [],
   "source": [
    "unique_values, counts = np.unique(mat01, return_counts=True)"
   ]
  },
  {
   "cell_type": "code",
   "execution_count": 68,
   "id": "098d78df-e280-47be-91a9-837e89dfb4a1",
   "metadata": {},
   "outputs": [
    {
     "name": "stdout",
     "output_type": "stream",
     "text": [
      "0:    1462277\n",
      "1:    36270\n",
      "2:    27981\n"
     ]
    }
   ],
   "source": [
    "for value, count in zip(unique_values, counts):\n",
    "    print(str(value) +\":    \"+str(count))"
   ]
  },
  {
   "cell_type": "code",
   "execution_count": 66,
   "id": "2ba8c686-e40e-4ac2-a79a-89351a27c516",
   "metadata": {},
   "outputs": [],
   "source": [
    "mat01[(mat01>0) & (mat01<250)] = 1\n",
    "mat01[mat01>250] = 2"
   ]
  },
  {
   "cell_type": "code",
   "execution_count": 69,
   "id": "e82e9fd7-30e5-4d85-80ee-5acbc07c2dad",
   "metadata": {},
   "outputs": [
    {
     "data": {
      "text/plain": [
       "<matplotlib.image.AxesImage at 0x1f81690b550>"
      ]
     },
     "execution_count": 69,
     "metadata": {},
     "output_type": "execute_result"
    },
    {
     "data": {
      "image/png": "[encoded data removed]",
      "text/plain": [
       "<Figure size 640x480 with 1 Axes>"
      ]
     },
     "metadata": {},
     "output_type": "display_data"
    }
   ],
   "source": [
    "plt.imshow(mat01)"
   ]
  }
 ],
 "metadata": {
  "kernelspec": {
   "display_name": "Python 3 (ipykernel)",
   "language": "python",
   "name": "python3"
  },
  "language_info": {
   "codemirror_mode": {
    "name": "ipython",
    "version": 3
   },
   "file_extension": ".py",
   "mimetype": "text/x-python",
   "name": "python",
   "nbconvert_exporter": "python",
   "pygments_lexer": "ipython3",
   "version": "3.11.4"
  }
 },
 "nbformat": 4,
 "nbformat_minor": 5
}
