{
 "cells": [
  {
   "cell_type": "code",
   "execution_count": 1,
   "id": "e4f9c3a8-5b66-453d-9d90-3a2e22c27bc5",
   "metadata": {},
   "outputs": [],
   "source": [
    "import torch\n",
    "import scipy as sc\n",
    "import numpy as np\n",
    "from PIL import Image\n",
    "import os\n",
    "import re\n",
    "import torch.nn.functional as F\n",
    "import cv2\n",
    "import numpy as np\n",
    "import time\n",
    "from scipy.io import loadmat, savemat\n",
    "import torch.nn as nn\n",
    "from tensorflow.keras.optimizers import Adam\n",
    "from torch.autograd import Variable\n",
    "from torchvision.models import resnet\n",
    "import torchvision.transforms as transforms\n",
    "from torch.utils.data import Dataset\n",
    "\n",
    "import matplotlib.pyplot as plt"
   ]
  },
  {
   "cell_type": "code",
   "execution_count": null,
   "id": "2d87797e-5bee-4023-a379-03498e542f1c",
   "metadata": {},
   "outputs": [],
   "source": [
    "folder_path = os.path.dirname(os.path.dirname(os.getcwd()))\n",
    "folder_path"
   ]
  },
  {
   "cell_type": "code",
   "execution_count": 2,
   "id": "ece062d0-8d05-40e6-8a8f-5e0d3c604146",
   "metadata": {},
   "outputs": [],
   "source": [
    "torch.cuda.empty_cache()"
   ]
  },
  {
   "cell_type": "code",
   "execution_count": 3,
   "id": "593d405d-47e7-44d3-bb72-14cc5eaaea76",
   "metadata": {},
   "outputs": [],
   "source": [
    "torch.cuda.empty_cache()"
   ]
  },
  {
   "cell_type": "code",
   "execution_count": 4,
   "id": "91cdcbcc-55c6-498d-9c5c-0182655f913e",
   "metadata": {},
   "outputs": [
    {
     "name": "stdout",
     "output_type": "stream",
     "text": [
      "36\n"
     ]
    },
    {
     "data": {
      "text/plain": [
       "'|===========================================================================|\\n|                  PyTorch CUDA memory summary, device ID 0                 |\\n|---------------------------------------------------------------------------|\\n|            CUDA OOMs: 0            |        cudaMalloc retries: 0         |\\n|===========================================================================|\\n|        Metric         | Cur Usage  | Peak Usage | Tot Alloc  | Tot Freed  |\\n|---------------------------------------------------------------------------|\\n| Allocated memory      |      0 B   |      0 B   |      0 B   |      0 B   |\\n|       from large pool |      0 B   |      0 B   |      0 B   |      0 B   |\\n|       from small pool |      0 B   |      0 B   |      0 B   |      0 B   |\\n|---------------------------------------------------------------------------|\\n| Active memory         |      0 B   |      0 B   |      0 B   |      0 B   |\\n|       from large pool |      0 B   |      0 B   |      0 B   |      0 B   |\\n|       from small pool |      0 B   |      0 B   |      0 B   |      0 B   |\\n|---------------------------------------------------------------------------|\\n| Requested memory      |      0 B   |      0 B   |      0 B   |      0 B   |\\n|       from large pool |      0 B   |      0 B   |      0 B   |      0 B   |\\n|       from small pool |      0 B   |      0 B   |      0 B   |      0 B   |\\n|---------------------------------------------------------------------------|\\n| GPU reserved memory   |      0 B   |      0 B   |      0 B   |      0 B   |\\n|       from large pool |      0 B   |      0 B   |      0 B   |      0 B   |\\n|       from small pool |      0 B   |      0 B   |      0 B   |      0 B   |\\n|---------------------------------------------------------------------------|\\n| Non-releasable memory |      0 B   |      0 B   |      0 B   |      0 B   |\\n|       from large pool |      0 B   |      0 B   |      0 B   |      0 B   |\\n|       from small pool |      0 B   |      0 B   |      0 B   |      0 B   |\\n|---------------------------------------------------------------------------|\\n| Allocations           |       0    |       0    |       0    |       0    |\\n|       from large pool |       0    |       0    |       0    |       0    |\\n|       from small pool |       0    |       0    |       0    |       0    |\\n|---------------------------------------------------------------------------|\\n| Active allocs         |       0    |       0    |       0    |       0    |\\n|       from large pool |       0    |       0    |       0    |       0    |\\n|       from small pool |       0    |       0    |       0    |       0    |\\n|---------------------------------------------------------------------------|\\n| GPU reserved segments |       0    |       0    |       0    |       0    |\\n|       from large pool |       0    |       0    |       0    |       0    |\\n|       from small pool |       0    |       0    |       0    |       0    |\\n|---------------------------------------------------------------------------|\\n| Non-releasable allocs |       0    |       0    |       0    |       0    |\\n|       from large pool |       0    |       0    |       0    |       0    |\\n|       from small pool |       0    |       0    |       0    |       0    |\\n|---------------------------------------------------------------------------|\\n| Oversize allocations  |       0    |       0    |       0    |       0    |\\n|---------------------------------------------------------------------------|\\n| Oversize GPU segments |       0    |       0    |       0    |       0    |\\n|===========================================================================|\\n'"
      ]
     },
     "execution_count": 4,
     "metadata": {},
     "output_type": "execute_result"
    }
   ],
   "source": [
    "device = torch.device(\"cuda:0\")\n",
    "torch.set_default_device(device)\n",
    "\n",
    "#torch.cuda.set_per_process_memory_fraction(0.5, device=device)\n",
    "\n",
    "print(torch.cuda.get_device_properties(device).multi_processor_count)\n",
    "torch.cuda.memory_allocated(device=torch.device(\"cuda\"))\n",
    "torch.cuda.memory_summary(device=torch.device(\"cuda\"), abbreviated=False)"
   ]
  },
  {
   "cell_type": "code",
   "execution_count": 5,
   "id": "43d28544-ff9d-493e-8b27-0fa0db39ad7c",
   "metadata": {},
   "outputs": [],
   "source": [
    "transform = transforms.ToTensor()"
   ]
  },
  {
   "cell_type": "code",
   "execution_count": 6,
   "id": "f27db2b3-9e0c-4851-a664-bfccaa93200a",
   "metadata": {},
   "outputs": [],
   "source": [
    "image = Image.open(r''+folder_path+r'\\Data\\Test\\001.jpg')"
   ]
  },
  {
   "cell_type": "code",
   "execution_count": 7,
   "id": "ce5001c6-997d-4a6f-a7ab-7f84cf80f624",
   "metadata": {},
   "outputs": [],
   "source": [
    "label = loadmat(r''+folder_path+r'\\Data\\Test_gt\\001.mat').get('mask')\n",
    "image = cv2.imread(r''+folder_path+r'\\Data\\Test\\001.jpg')"
   ]
  },
  {
   "cell_type": "code",
   "execution_count": 8,
   "id": "585bc685-ab8c-4215-8e23-07fa3b3297d9",
   "metadata": {},
   "outputs": [],
   "source": [
    "image = image/255"
   ]
  },
  {
   "cell_type": "code",
   "execution_count": 9,
   "id": "1460ac3e-37f0-4379-9319-a8cb9644d7e0",
   "metadata": {},
   "outputs": [
    {
     "data": {
      "text/plain": [
       "0.6666666666666666"
      ]
     },
     "execution_count": 9,
     "metadata": {},
     "output_type": "execute_result"
    }
   ],
   "source": [
    "np.max(image[:,:,1])"
   ]
  },
  {
   "cell_type": "code",
   "execution_count": 10,
   "id": "76a02548-4131-4a3c-9fa1-e3721e99d6df",
   "metadata": {},
   "outputs": [
    {
     "data": {
      "text/plain": [
       "(1424, 1072)"
      ]
     },
     "execution_count": 10,
     "metadata": {},
     "output_type": "execute_result"
    }
   ],
   "source": [
    "label.shape"
   ]
  },
  {
   "cell_type": "code",
   "execution_count": 11,
   "id": "28ca7dba-9ea6-4ff3-b815-9cad7b5c43bf",
   "metadata": {},
   "outputs": [],
   "source": [
    "bg = np.copy(label)\n",
    "disk = np.copy(label)\n",
    "cup = np.copy(label)\n",
    "\n",
    "#bg[bg == 0] = 3\n",
    "bg[bg == 1] = 0\n",
    "bg[bg == 2] = 0\n",
    "#bg[bg == 3] = 1\n",
    "\n",
    "disk[disk == 2] = 0\n",
    "cup[cup == 1] = 0\n",
    "cup[cup == 2] = 1\n",
    "#label[label == 2] = 255"
   ]
  },
  {
   "cell_type": "code",
   "execution_count": 12,
   "id": "708c040d-ac48-4e54-a7c1-eb5fbca9ea57",
   "metadata": {},
   "outputs": [],
   "source": [
    "label = cv2.cvtColor(label, cv2.COLOR_GRAY2RGB)"
   ]
  },
  {
   "cell_type": "code",
   "execution_count": 13,
   "id": "6ac82b51-b80d-4217-aed1-43b91813b5c1",
   "metadata": {},
   "outputs": [],
   "source": [
    "# label = cv2.cvtColor(label, cv2.COLOR_RGB2GRAY)"
   ]
  },
  {
   "cell_type": "code",
   "execution_count": 14,
   "id": "b077f974-d4c1-48c7-9a54-f7cec22b951d",
   "metadata": {},
   "outputs": [],
   "source": [
    "label[:, :, 2] = bg\n",
    "label[:, :, 1] = disk\n",
    "label[:, :, 0] = cup\n"
   ]
  },
  {
   "cell_type": "code",
   "execution_count": 15,
   "id": "e9b83ad2-28d0-4657-b97c-a0fedddb6f7b",
   "metadata": {},
   "outputs": [],
   "source": [
    "label[label == 1] = 1\n",
    "label[label == 2] = 1"
   ]
  },
  {
   "cell_type": "markdown",
   "id": "c8b86ddd-ed8c-4a8a-a90b-f6047dbfdb60",
   "metadata": {},
   "source": [
    "label = Image.fromarray(label)"
   ]
  },
  {
   "cell_type": "code",
   "execution_count": 16,
   "id": "7d5992c4-d572-404c-9ea9-278f0fce8b91",
   "metadata": {},
   "outputs": [],
   "source": [
    "# #label = label[:, :, :2]\n",
    "# label = torch.from_numpy(label)\n",
    "# _, predicted_labels = torch.max(label, 2)"
   ]
  },
  {
   "cell_type": "code",
   "execution_count": 17,
   "id": "7d9d1498-af6e-4624-bb18-db1588645e35",
   "metadata": {},
   "outputs": [],
   "source": [
    "# print(predicted_labels.shape)"
   ]
  },
  {
   "cell_type": "code",
   "execution_count": 18,
   "id": "c870a2d8-6d90-439b-a4bc-8fdf33057890",
   "metadata": {},
   "outputs": [],
   "source": [
    "# predicted_labels[predicted_labels == 0] = 255\n",
    "# predicted_labels[predicted_labels == 1] = 128\n",
    "# predicted_labels[predicted_labels == 2] = 0"
   ]
  },
  {
   "cell_type": "code",
   "execution_count": 19,
   "id": "0b942f18-1202-429b-a892-43556cbe68bb",
   "metadata": {},
   "outputs": [],
   "source": [
    "# prediction = np.copy(predicted_labels)"
   ]
  },
  {
   "cell_type": "code",
   "execution_count": 20,
   "id": "03148192-a47c-4690-983f-5ab65efea472",
   "metadata": {},
   "outputs": [],
   "source": [
    "# prediction[prediction == 0] = 255\n",
    "# prediction[prediction == 1] = 128\n",
    "# prediction[prediction == 2] = 0"
   ]
  },
  {
   "cell_type": "code",
   "execution_count": 21,
   "id": "10c4a28b-6553-4f76-a763-ae17786f148b",
   "metadata": {},
   "outputs": [],
   "source": [
    "# label = prediction"
   ]
  },
  {
   "cell_type": "code",
   "execution_count": 22,
   "id": "f92e5d4b-d387-4bd7-a590-9c524ebcd9df",
   "metadata": {},
   "outputs": [],
   "source": [
    "#image = image.resize((512, 512), resample=Image.NEAREST)"
   ]
  },
  {
   "cell_type": "code",
   "execution_count": 23,
   "id": "60b06efe-6a92-42b7-918c-d1d1c10c11f6",
   "metadata": {},
   "outputs": [],
   "source": [
    "# alpha = 2.0 # Contrast control (1.0 means no change)\n",
    "# beta = 100   # Brightness control (0 means no change)\n",
    "\n",
    "# adjusted_image = cv2.convertScaleAbs(image, alpha=alpha, beta=beta)"
   ]
  },
  {
   "cell_type": "code",
   "execution_count": 24,
   "id": "888077d0-1b1f-4dce-aeee-decd1e6becc9",
   "metadata": {},
   "outputs": [],
   "source": [
    "# cv2.imshow('Orig image', adjusted_image)\n",
    "# cv2.waitKey(0)\n",
    "# cv2.destroyAllWindows()"
   ]
  },
  {
   "cell_type": "code",
   "execution_count": 25,
   "id": "fac6fc70-9d44-42c7-bd39-a2bd44b21f83",
   "metadata": {},
   "outputs": [
    {
     "data": {
      "text/plain": [
       "<matplotlib.image.AxesImage at 0x1240cd86b10>"
      ]
     },
     "execution_count": 25,
     "metadata": {},
     "output_type": "execute_result"
    },
    {
     "data": {
      "image/png": "[encoded data removed]",
      "text/plain": [
       "<Figure size 640x480 with 1 Axes>"
      ]
     },
     "metadata": {},
     "output_type": "display_data"
    }
   ],
   "source": [
    "plt.imshow(label)"
   ]
  },
  {
   "cell_type": "code",
   "execution_count": 26,
   "id": "009c8fbf-c393-491c-9402-860e15d40516",
   "metadata": {},
   "outputs": [
    {
     "data": {
      "text/plain": [
       "array([0, 0, 0], dtype=uint8)"
      ]
     },
     "execution_count": 26,
     "metadata": {},
     "output_type": "execute_result"
    }
   ],
   "source": [
    "label[200,512]"
   ]
  },
  {
   "cell_type": "code",
   "execution_count": 27,
   "id": "de916dc8-a9ac-47d2-9cd2-36048e8ba87e",
   "metadata": {},
   "outputs": [
    {
     "name": "stdout",
     "output_type": "stream",
     "text": [
      "0:    4515333\n",
      "1:    64251\n"
     ]
    }
   ],
   "source": [
    "unique_values, counts = np.unique(label, return_counts=True)\n",
    "for value, count in zip(unique_values, counts):\n",
    "    print(str(value) +\":    \"+str(count))"
   ]
  },
  {
   "cell_type": "code",
   "execution_count": 28,
   "id": "2a23ee00-d5d1-4ca1-beee-dd97a0bd37bc",
   "metadata": {},
   "outputs": [],
   "source": [
    "class CustomSegmentationDataset(Dataset):\n",
    "    def __init__(self, image_paths, label_paths, transform=None):\n",
    "        self.image_paths = image_paths\n",
    "        self.label_paths = label_paths\n",
    "        self.transform = transform\n",
    "    \n",
    "    def __len__(self):\n",
    "        return len(os.listdir(self.image_paths))\n",
    "        \n",
    "    def __getitem__(self, idx):\n",
    "        image_path = os.listdir(self.image_paths)[idx]\n",
    "        label_path = os.listdir(self.label_paths)[idx]\n",
    "        \n",
    "        image = cv2.imread(self.image_paths + \"\\/\" + image_path)\n",
    "        #image = image.convert('L')\n",
    "        alpha = 2.0 # Contrast control (1.0 means no change)\n",
    "        beta = 100   # Brightness control (0 means no change)\n",
    "        \n",
    "        image = cv2.convertScaleAbs(image, alpha=alpha, beta=beta)\n",
    "\n",
    "        \n",
    "        label = loadmat(self.label_paths + \"\\/\" +label_path).get('mask')\n",
    "        bg = np.copy(label)\n",
    "        disk = np.copy(label)\n",
    "        cup = np.copy(label)\n",
    "\n",
    "        bg[bg == 0] = 3\n",
    "        bg[bg == 1] = 0\n",
    "        bg[bg == 2] = 0\n",
    "        bg[bg == 3] = 1\n",
    "        \n",
    "        disk[disk == 2] = 0\n",
    "        cup[cup == 1] = 0\n",
    "        cup[cup == 2] = 1\n",
    "        \n",
    "        label = cv2.cvtColor(label, cv2.COLOR_GRAY2RGB)\n",
    "\n",
    "        label[:, :, 0] = bg\n",
    "        label[:, :, 1] = disk\n",
    "        label[:, :, 2] = cup\n",
    "        \n",
    "        if self.transform:\n",
    "            image = Image.fromarray(image) \n",
    "            image = self.transform(image)#.to(device)\n",
    "            image = image/255\n",
    "            \n",
    "            label = Image.fromarray(label)\n",
    "            label = self.transform(label)\n",
    "            #label = label/255\n",
    "            \n",
    "            label = label.to(torch.float)\n",
    "        \n",
    "        return image, label"
   ]
  },
  {
   "cell_type": "code",
   "execution_count": 29,
   "id": "4179b503-72af-4206-8728-49235363534e",
   "metadata": {},
   "outputs": [],
   "source": [
    "data_transform = transforms.Compose([\n",
    "    #transform.Lambda(to_grayscale_pil),\n",
    "    transforms.Resize((256, 256), antialias=True),\n",
    "    # transforms.RandomHorizontalFlip(),\n",
    "    # transforms.RandomVerticalFlip(),\n",
    "    # transforms.RandomRotation(degrees=45),\n",
    "    transforms.ToTensor(),\n",
    "])"
   ]
  },
  {
   "cell_type": "code",
   "execution_count": 30,
   "id": "2beff8bb-fe2b-4d2d-b057-dfb244717059",
   "metadata": {},
   "outputs": [],
   "source": [
    "train_dataset = CustomSegmentationDataset(r''+folder_path+r'\\Data\\ImagesCroppedAugmented\\Train', r''+folder_path+r'\\Data\\LabelsCroppedAugmented\\Train', data_transform)\n",
    "valid_dataset = CustomSegmentationDataset(r''+folder_path+r'\\Data\\ImagesCroppedAugmented\\Valid', r''+folder_path+r'\\Data\\LabelsCroppedAugmented\\Valid', data_transform)"
   ]
  },
  {
   "cell_type": "code",
   "execution_count": 31,
   "id": "332dd7a6-62da-4dd1-afc4-bff8d14131a8",
   "metadata": {},
   "outputs": [],
   "source": [
    "batchSize = 64\n",
    "train_data = torch.utils.data.DataLoader(train_dataset, batch_size=batchSize, shuffle=True, generator=torch.Generator(device='cuda'), num_workers=0, \n",
    "    pin_memory=True)\n",
    "valid_data = torch.utils.data.DataLoader(valid_dataset, batch_size=batchSize, shuffle=True, generator=torch.Generator(device='cuda'), num_workers=0, \n",
    "    pin_memory=True)"
   ]
  },
  {
   "cell_type": "code",
   "execution_count": 32,
   "id": "389c864e-b54f-4a03-ba15-5fa0e0dc2fb3",
   "metadata": {},
   "outputs": [],
   "source": [
    "class BasicBlock(nn.Module):\n",
    "\n",
    "    def __init__(self, in_planes, out_planes, kernel_size, stride=1, padding=0, groups=1, bias=False, dropout_rate = 0.0):\n",
    "        super(BasicBlock, self).__init__()\n",
    "        self.conv1 = nn.Conv2d(in_planes, out_planes, kernel_size, stride, padding, groups=groups, bias=bias)\n",
    "        self.bn1 = nn.BatchNorm2d(out_planes)\n",
    "        self.relu = nn.ReLU(inplace=True)\n",
    "        self.conv2 = nn.Conv2d(out_planes, out_planes, kernel_size, 1, padding, groups=groups, bias=bias)\n",
    "        self.bn2 = nn.BatchNorm2d(out_planes)\n",
    "        self.dropout = nn.Dropout2d(dropout_rate)\n",
    "        self.downsample = None\n",
    "        if stride > 1:\n",
    "            self.downsample = nn.Sequential(nn.Conv2d(in_planes, out_planes, kernel_size=1, stride=stride, bias=False),\n",
    "                            nn.BatchNorm2d(out_planes),)\n",
    "\n",
    "    def forward(self, x):\n",
    "        residual = x\n",
    "\n",
    "        out = self.conv1(x)\n",
    "        out = self.bn1(out)\n",
    "        out = self.relu(out)\n",
    "\n",
    "        out = self.conv2(out)\n",
    "        out = self.bn2(out)\n",
    "\n",
    "        if self.downsample is not None:\n",
    "            residual = self.downsample(x)\n",
    "\n",
    "        out += residual\n",
    "        out = self.relu(out)\n",
    "        out = self.dropout(out)\n",
    "        return out"
   ]
  },
  {
   "cell_type": "code",
   "execution_count": 33,
   "id": "03f9f902-a06c-4517-b4a8-0781943413c0",
   "metadata": {},
   "outputs": [],
   "source": [
    "class Encoder(nn.Module):\n",
    "\n",
    "    def __init__(self, in_planes, out_planes, kernel_size, stride=1, padding=0, groups=1, bias=False, dropout_rate = 0):\n",
    "        super(Encoder, self).__init__()\n",
    "        self.block1 = BasicBlock(in_planes, out_planes, kernel_size, stride, padding, groups, bias, dropout_rate)\n",
    "        self.block2 = BasicBlock(out_planes, out_planes, kernel_size, 1, padding, groups, bias, dropout_rate)\n",
    "\n",
    "    def forward(self, x):\n",
    "        x = self.block1(x)\n",
    "        x = self.block2(x)\n",
    "\n",
    "        return x\n"
   ]
  },
  {
   "cell_type": "code",
   "execution_count": 34,
   "id": "3c05994b-a8c6-4cc0-aac1-c1d5ae9779f4",
   "metadata": {},
   "outputs": [],
   "source": [
    "class Decoder(nn.Module):\n",
    "\n",
    "    def __init__(self, in_planes, out_planes, kernel_size, stride=1, padding=0, output_padding=0, groups=1, bias=False):\n",
    "        # TODO bias=True\n",
    "        super(Decoder, self).__init__()\n",
    "        self.conv1 = nn.Sequential(nn.Conv2d(in_planes, in_planes//4, 1, 1, 0, bias=bias),\n",
    "                                nn.BatchNorm2d(in_planes//4),\n",
    "                                nn.ReLU(inplace=True),)\n",
    "        self.tp_conv = nn.Sequential(nn.ConvTranspose2d(in_planes//4, in_planes//4, kernel_size, stride, padding, output_padding, bias=bias),\n",
    "                                nn.BatchNorm2d(in_planes//4),\n",
    "                                nn.ReLU(inplace=True),)\n",
    "        self.conv2 = nn.Sequential(nn.Conv2d(in_planes//4, out_planes, 1, 1, 0, bias=bias),\n",
    "                                nn.BatchNorm2d(out_planes),\n",
    "                                nn.ReLU(inplace=True),)\n",
    "\n",
    "    def forward(self, x):\n",
    "        x = self.conv1(x)\n",
    "        x = self.tp_conv(x)\n",
    "        x = self.conv2(x)\n",
    "\n",
    "        return x"
   ]
  },
  {
   "cell_type": "code",
   "execution_count": 35,
   "id": "a641bde6-3ecf-4839-b41f-55626b22129a",
   "metadata": {},
   "outputs": [],
   "source": [
    "class LinkNetBase(nn.Module):\n",
    "    \"\"\"\n",
    "    Generate model architecture\n",
    "    \"\"\"\n",
    "\n",
    "    def __init__(self, n_classes=3, num_channels = 3):\n",
    "        \"\"\"\n",
    "        Model initialization\n",
    "        :param x_n: number of input neurons\n",
    "        :type x_n: int\n",
    "        \"\"\"\n",
    "        super(LinkNetBase, self).__init__()\n",
    "        self.conv1 = nn.Conv2d(num_channels, 64, 7, 2, 3, bias=False)\n",
    "        self.bn1 = nn.BatchNorm2d(64)\n",
    "        self.relu = nn.ReLU(inplace=True)\n",
    "        self.maxpool = nn.MaxPool2d(3, 2, 1)\n",
    "        \n",
    "        self.encoder1 = Encoder(64, 64, 3, 1, 1)\n",
    "        self.encoder2 = Encoder(64, 128, 3, 2, 1)\n",
    "        self.encoder3 = Encoder(128, 256, 3, 2, 1)\n",
    "        #self.encoder3 = Encoder(128, 256, 3, 2, 1, 1, False, 0.1)\n",
    "        self.encoder4 = Encoder(256, 512, 3, 2, 1)\n",
    "        self.encoder5 = Encoder(512, 1024, 3, 2, 1)\n",
    "        #self.encoder5 = Encoder(512, 1024, 3, 2, 1, 1, False, 0.5)\n",
    "        \n",
    "        self.decoder1 = Decoder(64, 64, 3, 1, 1, 0)\n",
    "        self.decoder2 = Decoder(128, 64, 3, 2, 1, 1)\n",
    "        self.decoder3 = Decoder(256, 128, 3, 2, 1, 1)\n",
    "        self.decoder4 = Decoder(512, 256, 3, 2, 1, 1)\n",
    "        self.decoder5 = Decoder(1024, 512, 3, 2, 1, 1)\n",
    "\n",
    "        # Classifier\n",
    "        self.tp_conv1 = nn.Sequential(nn.ConvTranspose2d(64, 32, 3, 2, 1, 1),\n",
    "                                      nn.BatchNorm2d(32),\n",
    "                                      nn.ReLU(inplace=True),)\n",
    "        self.conv2 = nn.Sequential(nn.Conv2d(32, 32, 3, 1, 1),\n",
    "                                nn.BatchNorm2d(32),\n",
    "                                nn.ReLU(inplace=True),)\n",
    "        self.tp_conv2 = nn.ConvTranspose2d(32, n_classes, 2, 2, 0)\n",
    "        \n",
    "        self.conv3 =  nn.Sequential(nn.Conv2d(16, 16, 2, 2, 0),\n",
    "                                nn.BatchNorm2d(16),\n",
    "                                nn.ReLU(inplace=True),)\n",
    "        self.tp_conv3 = nn.ConvTranspose2d(16, n_classes, 2, 2, 0)\n",
    "\n",
    "        \n",
    "        self.lsm = nn.LogSoftmax(dim=1) #Sigmoid/SoftMax\n",
    "        self.sigm = nn.Sigmoid()\n",
    "        self.sftmax = nn.Softmax(dim=1)\n",
    "    \n",
    "    # def conv_to_match_channels(self, input_tensor, target_tensor):\n",
    "    #     # Apply a convolution to match the number of channels in input_tensor with target_tensor\n",
    "    #     num_channels_input = input_tensor.shape[1]\n",
    "    #     num_channels_target = target_tensor.shape[1]\n",
    "    \n",
    "    #     if num_channels_input < num_channels_target:\n",
    "    #         # Apply a convolution to increase the number of channels\n",
    "    #         conv_layer = nn.Conv2d(num_channels_input, num_channels_target, kernel_size=1, padding=0)\n",
    "    #     elif num_channels_input > num_channels_target:\n",
    "    #         # Apply a convolution to decrease the number of channels\n",
    "    #         conv_layer = nn.Conv2d(num_channels_input, num_channels_target, kernel_size=1, padding=0)\n",
    "    #     else:\n",
    "    #         # No need to change channels\n",
    "    #         return input_tensor\n",
    "    \n",
    "    #     return F.relu(conv_layer(input_tensor))\n",
    "            \n",
    "    def forward(self, x):\n",
    "        # Initial block\n",
    "        x = self.conv1(x)\n",
    "        x = self.bn1(x)\n",
    "        x = self.relu(x)\n",
    "        x = self.maxpool(x)\n",
    "\n",
    "        # Encoder blocks\n",
    "        e1 = self.encoder1(x)\n",
    "        e2 = self.encoder2(e1)\n",
    "        e3 = self.encoder3(e2)\n",
    "        e4 = self.encoder4(e3)\n",
    "        #e5 = self.encoder5(e4)\n",
    "        \n",
    "        # Decoder blocks\n",
    "        d4 = e3 + self.decoder4(e4)\n",
    "        #d5 = e4 + self.decoder5(e5)\n",
    "        #d4 = e3 + self.decoder4(d5)\n",
    "        d3 = e2 + self.decoder3(d4)\n",
    "        d2 = e1 + self.decoder2(d3)\n",
    "        d1 = x + self.decoder1(d2)\n",
    "\n",
    "        # Classifier\n",
    "        y = self.tp_conv1(d1)\n",
    "        y = self.conv2(y)\n",
    "        y = self.tp_conv2(y)\n",
    "        #y = self.conv3(y)\n",
    "        #y = self.tp_conv3(y)\n",
    "        y = self.sftmax(y)\n",
    "        \n",
    "        return y"
   ]
  },
  {
   "cell_type": "code",
   "execution_count": 36,
   "id": "66d4ae45-5dba-4f62-a095-d8e21da2c743",
   "metadata": {},
   "outputs": [],
   "source": [
    "def get_IoU(output, target):\n",
    "    # Assuming output and target are torch tensors with values of 0 or 1\n",
    "    output = output.detach().cpu().numpy()\n",
    "    target = target.detach().cpu().numpy()\n",
    "    print(output.shape)\n",
    "    \n",
    "    output = torch.from_numpy(output)\n",
    "    \n",
    "    _, predicted_labels = torch.max(output, 1)\n",
    "    _, gt_labels = torch.max(target, 2)\n",
    "    \n",
    "    predicted_labels_np = np.copy(predicted_labels)\n",
    "    gt_labels_np = np.copy(gt_labels)\n",
    "    \n",
    "    predicted_labels_np[predicted_labels_np == 0] = 255\n",
    "    predicted_labels_np[predicted_labels_np == 1] = 128\n",
    "    predicted_labels_np[predicted_labels_np == 2] = 0\n",
    "\n",
    "    gt_labels_np[gt_labels_np == 0] = 255\n",
    "    gt_labels_np[gt_labels_np == 1] = 128\n",
    "    gt_labels_np[gt_labels_np == 2] = 0\n",
    "\n",
    "    output = predicted_labels_np\n",
    "    target = gt_labels_np\n",
    "\n",
    "    \n",
    "    output = output.numel()\n",
    "    target = target.numel()\n",
    "    \n",
    "    intersection = ((output == target) & (target != 0)).sum().item()\n",
    "    union = ((output !=0) | (target != 0)).sum().item()\n",
    "\n",
    "    iou = intersection / union if union != 0 else 0.0\n",
    "    return iou"
   ]
  },
  {
   "cell_type": "code",
   "execution_count": 37,
   "id": "c0d8d9c3-dfe0-4399-aede-6b3a23c51753",
   "metadata": {},
   "outputs": [],
   "source": [
    "def get_accuracy(output, target):\n",
    "    # Assuming output and target are torch tensors with values of 0 or 1\n",
    "    output = output.detach().cpu().numpy()\n",
    "    target = target.detach().cpu().numpy()\n",
    "    print(output.shape)\n",
    "    \n",
    "    output = torch.from_numpy(output)\n",
    "    \n",
    "    _, predicted_labels = torch.max(output, 1)\n",
    "    _, gt_labels = torch.max(target, 2)\n",
    "    \n",
    "    predicted_labels_np = np.copy(predicted_labels)\n",
    "    gt_labels_np = np.copy(gt_labels)\n",
    "    \n",
    "    predicted_labels_np[predicted_labels_np == 0] = 255\n",
    "    predicted_labels_np[predicted_labels_np == 1] = 128\n",
    "    predicted_labels_np[predicted_labels_np == 2] = 0\n",
    "\n",
    "    gt_labels_np[gt_labels_np == 0] = 255\n",
    "    gt_labels_np[gt_labels_np == 1] = 128\n",
    "    gt_labels_np[gt_labels_np == 2] = 0\n",
    "\n",
    "    output = predicted_labels_np\n",
    "    target = gt_labels_np\n",
    "    \n",
    "    output = output.numel()\n",
    "    target = target.numel()\n",
    "    \n",
    "    correct_pixels = torch.eq(output, target).sum().item()\n",
    "\n",
    "    accuracy = correct_pixels / total_pixels\n",
    "    return accuracy"
   ]
  },
  {
   "cell_type": "code",
   "execution_count": 38,
   "id": "7908e953-931a-4af1-9fff-2936442323b7",
   "metadata": {},
   "outputs": [],
   "source": [
    "class FocalLoss(nn.Module):\n",
    "    def __init__(self, gamma=2, alpha=0.2, reduction='mean'):\n",
    "        super(FocalLoss, self).__init__()\n",
    "        self.gamma = gamma\n",
    "        self.alpha = alpha\n",
    "        self.reduction = reduction\n",
    "\n",
    "    def forward(self, inputs, targets):\n",
    "        ce_loss = F.cross_entropy(inputs, targets, reduction='none')\n",
    "        pt = torch.exp(-ce_loss)\n",
    "        focal_loss = (1 - pt) ** self.gamma * ce_loss\n",
    "\n",
    "        if self.alpha is not None:\n",
    "            targets = targets.argmax(dim=1)\n",
    "            print(targets.shape)\n",
    "            alpha_targets = targets.long()\n",
    "            focal_loss = self.alpha[alpha_targets] * focal_loss\n",
    "\n",
    "        if self.reduction == 'mean':\n",
    "            return focal_loss.mean()\n",
    "        elif self.reduction == 'sum':\n",
    "            return focal_loss.sum()\n",
    "        elif self.reduction == 'none':\n",
    "            return focal_loss\n",
    "        else:\n",
    "            raise ValueError(\"Invalid reduction option. Use 'mean', 'sum', or 'none'.\")"
   ]
  },
  {
   "cell_type": "code",
   "execution_count": 39,
   "id": "3f72cec9-2d57-47bc-992e-be78cca9a82e",
   "metadata": {},
   "outputs": [],
   "source": [
    "num_epochs = 50\n",
    "best_val_loss = float('inf')\n",
    "early_stop_patience = 3\n",
    "learning_rate = 0.001\n",
    "weight_decay = 0.0001"
   ]
  },
  {
   "cell_type": "code",
   "execution_count": 40,
   "id": "cca60cc3-2750-4900-adc6-ef3816e5ff65",
   "metadata": {},
   "outputs": [
    {
     "name": "stdout",
     "output_type": "stream",
     "text": [
      "LinkNetBase(\n",
      "  (conv1): Conv2d(3, 64, kernel_size=(7, 7), stride=(2, 2), padding=(3, 3), bias=False)\n",
      "  (bn1): BatchNorm2d(64, eps=1e-05, momentum=0.1, affine=True, track_running_stats=True)\n",
      "  (relu): ReLU(inplace=True)\n",
      "  (maxpool): MaxPool2d(kernel_size=3, stride=2, padding=1, dilation=1, ceil_mode=False)\n",
      "  (encoder1): Encoder(\n",
      "    (block1): BasicBlock(\n",
      "      (conv1): Conv2d(64, 64, kernel_size=(3, 3), stride=(1, 1), padding=(1, 1), bias=False)\n",
      "      (bn1): BatchNorm2d(64, eps=1e-05, momentum=0.1, affine=True, track_running_stats=True)\n",
      "      (relu): ReLU(inplace=True)\n",
      "      (conv2): Conv2d(64, 64, kernel_size=(3, 3), stride=(1, 1), padding=(1, 1), bias=False)\n",
      "      (bn2): BatchNorm2d(64, eps=1e-05, momentum=0.1, affine=True, track_running_stats=True)\n",
      "      (dropout): Dropout2d(p=0, inplace=False)\n",
      "    )\n",
      "    (block2): BasicBlock(\n",
      "      (conv1): Conv2d(64, 64, kernel_size=(3, 3), stride=(1, 1), padding=(1, 1), bias=False)\n",
      "      (bn1): BatchNorm2d(64, eps=1e-05, momentum=0.1, affine=True, track_running_stats=True)\n",
      "      (relu): ReLU(inplace=True)\n",
      "      (conv2): Conv2d(64, 64, kernel_size=(3, 3), stride=(1, 1), padding=(1, 1), bias=False)\n",
      "      (bn2): BatchNorm2d(64, eps=1e-05, momentum=0.1, affine=True, track_running_stats=True)\n",
      "      (dropout): Dropout2d(p=0, inplace=False)\n",
      "    )\n",
      "  )\n",
      "  (encoder2): Encoder(\n",
      "    (block1): BasicBlock(\n",
      "      (conv1): Conv2d(64, 128, kernel_size=(3, 3), stride=(2, 2), padding=(1, 1), bias=False)\n",
      "      (bn1): BatchNorm2d(128, eps=1e-05, momentum=0.1, affine=True, track_running_stats=True)\n",
      "      (relu): ReLU(inplace=True)\n",
      "      (conv2): Conv2d(128, 128, kernel_size=(3, 3), stride=(1, 1), padding=(1, 1), bias=False)\n",
      "      (bn2): BatchNorm2d(128, eps=1e-05, momentum=0.1, affine=True, track_running_stats=True)\n",
      "      (dropout): Dropout2d(p=0, inplace=False)\n",
      "      (downsample): Sequential(\n",
      "        (0): Conv2d(64, 128, kernel_size=(1, 1), stride=(2, 2), bias=False)\n",
      "        (1): BatchNorm2d(128, eps=1e-05, momentum=0.1, affine=True, track_running_stats=True)\n",
      "      )\n",
      "    )\n",
      "    (block2): BasicBlock(\n",
      "      (conv1): Conv2d(128, 128, kernel_size=(3, 3), stride=(1, 1), padding=(1, 1), bias=False)\n",
      "      (bn1): BatchNorm2d(128, eps=1e-05, momentum=0.1, affine=True, track_running_stats=True)\n",
      "      (relu): ReLU(inplace=True)\n",
      "      (conv2): Conv2d(128, 128, kernel_size=(3, 3), stride=(1, 1), padding=(1, 1), bias=False)\n",
      "      (bn2): BatchNorm2d(128, eps=1e-05, momentum=0.1, affine=True, track_running_stats=True)\n",
      "      (dropout): Dropout2d(p=0, inplace=False)\n",
      "    )\n",
      "  )\n",
      "  (encoder3): Encoder(\n",
      "    (block1): BasicBlock(\n",
      "      (conv1): Conv2d(128, 256, kernel_size=(3, 3), stride=(2, 2), padding=(1, 1), bias=False)\n",
      "      (bn1): BatchNorm2d(256, eps=1e-05, momentum=0.1, affine=True, track_running_stats=True)\n",
      "      (relu): ReLU(inplace=True)\n",
      "      (conv2): Conv2d(256, 256, kernel_size=(3, 3), stride=(1, 1), padding=(1, 1), bias=False)\n",
      "      (bn2): BatchNorm2d(256, eps=1e-05, momentum=0.1, affine=True, track_running_stats=True)\n",
      "      (dropout): Dropout2d(p=0, inplace=False)\n",
      "      (downsample): Sequential(\n",
      "        (0): Conv2d(128, 256, kernel_size=(1, 1), stride=(2, 2), bias=False)\n",
      "        (1): BatchNorm2d(256, eps=1e-05, momentum=0.1, affine=True, track_running_stats=True)\n",
      "      )\n",
      "    )\n",
      "    (block2): BasicBlock(\n",
      "      (conv1): Conv2d(256, 256, kernel_size=(3, 3), stride=(1, 1), padding=(1, 1), bias=False)\n",
      "      (bn1): BatchNorm2d(256, eps=1e-05, momentum=0.1, affine=True, track_running_stats=True)\n",
      "      (relu): ReLU(inplace=True)\n",
      "      (conv2): Conv2d(256, 256, kernel_size=(3, 3), stride=(1, 1), padding=(1, 1), bias=False)\n",
      "      (bn2): BatchNorm2d(256, eps=1e-05, momentum=0.1, affine=True, track_running_stats=True)\n",
      "      (dropout): Dropout2d(p=0, inplace=False)\n",
      "    )\n",
      "  )\n",
      "  (encoder4): Encoder(\n",
      "    (block1): BasicBlock(\n",
      "      (conv1): Conv2d(256, 512, kernel_size=(3, 3), stride=(2, 2), padding=(1, 1), bias=False)\n",
      "      (bn1): BatchNorm2d(512, eps=1e-05, momentum=0.1, affine=True, track_running_stats=True)\n",
      "      (relu): ReLU(inplace=True)\n",
      "      (conv2): Conv2d(512, 512, kernel_size=(3, 3), stride=(1, 1), padding=(1, 1), bias=False)\n",
      "      (bn2): BatchNorm2d(512, eps=1e-05, momentum=0.1, affine=True, track_running_stats=True)\n",
      "      (dropout): Dropout2d(p=0, inplace=False)\n",
      "      (downsample): Sequential(\n",
      "        (0): Conv2d(256, 512, kernel_size=(1, 1), stride=(2, 2), bias=False)\n",
      "        (1): BatchNorm2d(512, eps=1e-05, momentum=0.1, affine=True, track_running_stats=True)\n",
      "      )\n",
      "    )\n",
      "    (block2): BasicBlock(\n",
      "      (conv1): Conv2d(512, 512, kernel_size=(3, 3), stride=(1, 1), padding=(1, 1), bias=False)\n",
      "      (bn1): BatchNorm2d(512, eps=1e-05, momentum=0.1, affine=True, track_running_stats=True)\n",
      "      (relu): ReLU(inplace=True)\n",
      "      (conv2): Conv2d(512, 512, kernel_size=(3, 3), stride=(1, 1), padding=(1, 1), bias=False)\n",
      "      (bn2): BatchNorm2d(512, eps=1e-05, momentum=0.1, affine=True, track_running_stats=True)\n",
      "      (dropout): Dropout2d(p=0, inplace=False)\n",
      "    )\n",
      "  )\n",
      "  (encoder5): Encoder(\n",
      "    (block1): BasicBlock(\n",
      "      (conv1): Conv2d(512, 1024, kernel_size=(3, 3), stride=(2, 2), padding=(1, 1), bias=False)\n",
      "      (bn1): BatchNorm2d(1024, eps=1e-05, momentum=0.1, affine=True, track_running_stats=True)\n",
      "      (relu): ReLU(inplace=True)\n",
      "      (conv2): Conv2d(1024, 1024, kernel_size=(3, 3), stride=(1, 1), padding=(1, 1), bias=False)\n",
      "      (bn2): BatchNorm2d(1024, eps=1e-05, momentum=0.1, affine=True, track_running_stats=True)\n",
      "      (dropout): Dropout2d(p=0, inplace=False)\n",
      "      (downsample): Sequential(\n",
      "        (0): Conv2d(512, 1024, kernel_size=(1, 1), stride=(2, 2), bias=False)\n",
      "        (1): BatchNorm2d(1024, eps=1e-05, momentum=0.1, affine=True, track_running_stats=True)\n",
      "      )\n",
      "    )\n",
      "    (block2): BasicBlock(\n",
      "      (conv1): Conv2d(1024, 1024, kernel_size=(3, 3), stride=(1, 1), padding=(1, 1), bias=False)\n",
      "      (bn1): BatchNorm2d(1024, eps=1e-05, momentum=0.1, affine=True, track_running_stats=True)\n",
      "      (relu): ReLU(inplace=True)\n",
      "      (conv2): Conv2d(1024, 1024, kernel_size=(3, 3), stride=(1, 1), padding=(1, 1), bias=False)\n",
      "      (bn2): BatchNorm2d(1024, eps=1e-05, momentum=0.1, affine=True, track_running_stats=True)\n",
      "      (dropout): Dropout2d(p=0, inplace=False)\n",
      "    )\n",
      "  )\n",
      "  (decoder1): Decoder(\n",
      "    (conv1): Sequential(\n",
      "      (0): Conv2d(64, 16, kernel_size=(1, 1), stride=(1, 1), bias=False)\n",
      "      (1): BatchNorm2d(16, eps=1e-05, momentum=0.1, affine=True, track_running_stats=True)\n",
      "      (2): ReLU(inplace=True)\n",
      "    )\n",
      "    (tp_conv): Sequential(\n",
      "      (0): ConvTranspose2d(16, 16, kernel_size=(3, 3), stride=(1, 1), padding=(1, 1), bias=False)\n",
      "      (1): BatchNorm2d(16, eps=1e-05, momentum=0.1, affine=True, track_running_stats=True)\n",
      "      (2): ReLU(inplace=True)\n",
      "    )\n",
      "    (conv2): Sequential(\n",
      "      (0): Conv2d(16, 64, kernel_size=(1, 1), stride=(1, 1), bias=False)\n",
      "      (1): BatchNorm2d(64, eps=1e-05, momentum=0.1, affine=True, track_running_stats=True)\n",
      "      (2): ReLU(inplace=True)\n",
      "    )\n",
      "  )\n",
      "  (decoder2): Decoder(\n",
      "    (conv1): Sequential(\n",
      "      (0): Conv2d(128, 32, kernel_size=(1, 1), stride=(1, 1), bias=False)\n",
      "      (1): BatchNorm2d(32, eps=1e-05, momentum=0.1, affine=True, track_running_stats=True)\n",
      "      (2): ReLU(inplace=True)\n",
      "    )\n",
      "    (tp_conv): Sequential(\n",
      "      (0): ConvTranspose2d(32, 32, kernel_size=(3, 3), stride=(2, 2), padding=(1, 1), output_padding=(1, 1), bias=False)\n",
      "      (1): BatchNorm2d(32, eps=1e-05, momentum=0.1, affine=True, track_running_stats=True)\n",
      "      (2): ReLU(inplace=True)\n",
      "    )\n",
      "    (conv2): Sequential(\n",
      "      (0): Conv2d(32, 64, kernel_size=(1, 1), stride=(1, 1), bias=False)\n",
      "      (1): BatchNorm2d(64, eps=1e-05, momentum=0.1, affine=True, track_running_stats=True)\n",
      "      (2): ReLU(inplace=True)\n",
      "    )\n",
      "  )\n",
      "  (decoder3): Decoder(\n",
      "    (conv1): Sequential(\n",
      "      (0): Conv2d(256, 64, kernel_size=(1, 1), stride=(1, 1), bias=False)\n",
      "      (1): BatchNorm2d(64, eps=1e-05, momentum=0.1, affine=True, track_running_stats=True)\n",
      "      (2): ReLU(inplace=True)\n",
      "    )\n",
      "    (tp_conv): Sequential(\n",
      "      (0): ConvTranspose2d(64, 64, kernel_size=(3, 3), stride=(2, 2), padding=(1, 1), output_padding=(1, 1), bias=False)\n",
      "      (1): BatchNorm2d(64, eps=1e-05, momentum=0.1, affine=True, track_running_stats=True)\n",
      "      (2): ReLU(inplace=True)\n",
      "    )\n",
      "    (conv2): Sequential(\n",
      "      (0): Conv2d(64, 128, kernel_size=(1, 1), stride=(1, 1), bias=False)\n",
      "      (1): BatchNorm2d(128, eps=1e-05, momentum=0.1, affine=True, track_running_stats=True)\n",
      "      (2): ReLU(inplace=True)\n",
      "    )\n",
      "  )\n",
      "  (decoder4): Decoder(\n",
      "    (conv1): Sequential(\n",
      "      (0): Conv2d(512, 128, kernel_size=(1, 1), stride=(1, 1), bias=False)\n",
      "      (1): BatchNorm2d(128, eps=1e-05, momentum=0.1, affine=True, track_running_stats=True)\n",
      "      (2): ReLU(inplace=True)\n",
      "    )\n",
      "    (tp_conv): Sequential(\n",
      "      (0): ConvTranspose2d(128, 128, kernel_size=(3, 3), stride=(2, 2), padding=(1, 1), output_padding=(1, 1), bias=False)\n",
      "      (1): BatchNorm2d(128, eps=1e-05, momentum=0.1, affine=True, track_running_stats=True)\n",
      "      (2): ReLU(inplace=True)\n",
      "    )\n",
      "    (conv2): Sequential(\n",
      "      (0): Conv2d(128, 256, kernel_size=(1, 1), stride=(1, 1), bias=False)\n",
      "      (1): BatchNorm2d(256, eps=1e-05, momentum=0.1, affine=True, track_running_stats=True)\n",
      "      (2): ReLU(inplace=True)\n",
      "    )\n",
      "  )\n",
      "  (decoder5): Decoder(\n",
      "    (conv1): Sequential(\n",
      "      (0): Conv2d(1024, 256, kernel_size=(1, 1), stride=(1, 1), bias=False)\n",
      "      (1): BatchNorm2d(256, eps=1e-05, momentum=0.1, affine=True, track_running_stats=True)\n",
      "      (2): ReLU(inplace=True)\n",
      "    )\n",
      "    (tp_conv): Sequential(\n",
      "      (0): ConvTranspose2d(256, 256, kernel_size=(3, 3), stride=(2, 2), padding=(1, 1), output_padding=(1, 1), bias=False)\n",
      "      (1): BatchNorm2d(256, eps=1e-05, momentum=0.1, affine=True, track_running_stats=True)\n",
      "      (2): ReLU(inplace=True)\n",
      "    )\n",
      "    (conv2): Sequential(\n",
      "      (0): Conv2d(256, 512, kernel_size=(1, 1), stride=(1, 1), bias=False)\n",
      "      (1): BatchNorm2d(512, eps=1e-05, momentum=0.1, affine=True, track_running_stats=True)\n",
      "      (2): ReLU(inplace=True)\n",
      "    )\n",
      "  )\n",
      "  (tp_conv1): Sequential(\n",
      "    (0): ConvTranspose2d(64, 32, kernel_size=(3, 3), stride=(2, 2), padding=(1, 1), output_padding=(1, 1))\n",
      "    (1): BatchNorm2d(32, eps=1e-05, momentum=0.1, affine=True, track_running_stats=True)\n",
      "    (2): ReLU(inplace=True)\n",
      "  )\n",
      "  (conv2): Sequential(\n",
      "    (0): Conv2d(32, 32, kernel_size=(3, 3), stride=(1, 1), padding=(1, 1))\n",
      "    (1): BatchNorm2d(32, eps=1e-05, momentum=0.1, affine=True, track_running_stats=True)\n",
      "    (2): ReLU(inplace=True)\n",
      "  )\n",
      "  (tp_conv2): ConvTranspose2d(32, 3, kernel_size=(2, 2), stride=(2, 2))\n",
      "  (conv3): Sequential(\n",
      "    (0): Conv2d(16, 16, kernel_size=(2, 2), stride=(2, 2))\n",
      "    (1): BatchNorm2d(16, eps=1e-05, momentum=0.1, affine=True, track_running_stats=True)\n",
      "    (2): ReLU(inplace=True)\n",
      "  )\n",
      "  (tp_conv3): ConvTranspose2d(16, 3, kernel_size=(2, 2), stride=(2, 2))\n",
      "  (lsm): LogSoftmax(dim=1)\n",
      "  (sigm): Sigmoid()\n",
      "  (sftmax): Softmax(dim=1)\n",
      ")\n"
     ]
    }
   ],
   "source": [
    "model = LinkNetBase()\n",
    "model.to(device)\n",
    "optimizer = torch.optim.Adam(model.parameters(), lr=learning_rate, weight_decay=weight_decay) \n",
    "criterion = torch.nn.BCELoss()\n",
    "#criterion = nn.BCEWithLogitsLoss()\n",
    "#criterion = FocalLoss(2, [0.6, 0.55, 0.5])\n",
    "criterion = nn.CrossEntropyLoss()#(weight=torch.tensor([0.65, 0.5, 0.55]))\n",
    "#criterion = DiceBCELoss()\n",
    "print(model)"
   ]
  },
  {
   "cell_type": "code",
   "execution_count": 41,
   "id": "c8caf3a7-0273-4b48-9ce6-5916a1e15105",
   "metadata": {},
   "outputs": [
    {
     "name": "stdout",
     "output_type": "stream",
     "text": [
      "Epoch 1/50: Time:121.7868242263794 sec   Training loss = 0.003600697164074518 Validation loss = 0.0039052114298101515\n",
      "Epoch 2/50: Time:96.27143001556396 sec   Training loss = 0.0032020467697293498 Validation loss = 0.003604498051572591\n",
      "Epoch 3/50: Time:95.82412600517273 sec   Training loss = 0.0030618586388300173 Validation loss = 0.003137552092084661\n",
      "Epoch 4/50: Time:90.32511806488037 sec   Training loss = 0.003008214152941946 Validation loss = 0.0056543893297202885\n",
      "Epoch 5/50: Time:93.1335723400116 sec   Training loss = 0.0029732110488112085 Validation loss = 0.0031783728627488017\n",
      "Epoch 6/50: Time:101.24652457237244 sec   Training loss = 0.0029563656280515715 Validation loss = 0.002956542040919885\n",
      "Epoch 7/50: Time:98.39109897613525 sec   Training loss = 0.0029245520927361213 Validation loss = 0.002999510004883632\n",
      "Epoch 8/50: Time:103.20879244804382 sec   Training loss = 0.002934638316219207 Validation loss = 0.0032373308204114437\n",
      "Epoch 9/50: "
     ]
    }
   ],
   "source": [
    "train_loss_list = []\n",
    "valid_loss_list = [] \n",
    "total_accuracy = 0.0\n",
    "total_iou = 0.0\n",
    "total_samples = 0\n",
    "success_epoch = 0\n",
    "clip_value = 1\n",
    "\n",
    "for epoch in range(num_epochs): \n",
    "    start_time = time.time()\n",
    "    print(f'Epoch {epoch+1}/{num_epochs}:', end = ' ')\n",
    "    \n",
    "    success_epoch+=1\n",
    "    train_loss = 0\n",
    "    valid_loss = 0\n",
    "    #Iterating over the training dataset in batches \n",
    "    model.train() \n",
    "    for images, labels in train_data: \n",
    "        #Extracting images and target labels for the batch being iterated \n",
    "        images = images.to(device) \n",
    "        labels= labels.to(device) \n",
    "        #Calculating the model output and the cross entropy loss \n",
    "        outputs = model.forward(images) \n",
    "        \n",
    "        loss = criterion(outputs, labels) \n",
    "        #Updating weights according to calculated loss \n",
    "        optimizer.zero_grad() \n",
    "        loss.backward() \n",
    "        #torch.nn.utils.clip_grad_norm_(model.parameters(), clip_value)\n",
    "        optimizer.step() \n",
    "        \n",
    "        # l1_loss = 0\n",
    "        # l2_loss = 0\n",
    "        # for name, param in model.named_parameters():\n",
    "        #     if 'weight' in name:\n",
    "        #         l1_loss += torch.sum(torch.abs(param))\n",
    "        #         l2_loss += torch.sum(torch.pow(param, 2))\n",
    "        # loss += 1e-5 * (l1_loss + l2_loss)\n",
    "        \n",
    "        train_loss += loss.item() \n",
    "        \n",
    "        #outputs = (outputs > 0.5).float()\n",
    "        \n",
    "    #     batch_iou = get_IoU(outputs, labels)\n",
    "    #     total_iou += batch_iou\n",
    "\n",
    "    #     batch_accuracy = get_accuracy(outputs, labels)\n",
    "    #     total_accuracy += batch_accuracy\n",
    "        \n",
    "    #     total_samples += images.size(0)\n",
    "            \n",
    "    # average_iou_train = total_iou / total_samples\n",
    "    # average_accuracy_train = total_accuracy / total_samples\n",
    "    \n",
    "    model.eval()\n",
    "    with torch.no_grad():\n",
    "        for i, (images, labels) in enumerate(valid_data):\n",
    "            images = images.to(device) \n",
    "            labels = labels.to(device)\n",
    "            \n",
    "            outputs = model(images) \n",
    "            loss = criterion(outputs, labels)\n",
    "            \n",
    "            l1_loss = 0\n",
    "            l2_loss = 0\n",
    "            for name, param in model.named_parameters():\n",
    "                if 'weight' in name:\n",
    "                    l1_loss += torch.sum(torch.abs(param))\n",
    "                    l2_loss += torch.sum(torch.pow(param, 2))\n",
    "            loss += 1e-5 * (l1_loss + l2_loss)\n",
    "                \n",
    "            valid_loss += loss.item() \n",
    "            \n",
    "    \n",
    "    if valid_loss < best_val_loss:\n",
    "        best_val_loss = valid_loss\n",
    "        current_patience = 0\n",
    "    else:\n",
    "        current_patience += 1\n",
    "        if current_patience >= early_stop_patience:\n",
    "            break\n",
    "    #Printing loss for each epoch \n",
    "    train_loss_list.append(train_loss/len(train_data))\n",
    "    valid_loss_list.append(valid_loss/len(valid_data)) \n",
    "    print(f\"Time:{time.time() - start_time} sec   Training loss = {train_loss_list[-1]} Validation loss = {valid_loss_list[-1]}\")# IoU_train = {average_iou_train}  Iou_valid = {average_iou_valid} Accuracy_train = {average_accuracy_train} Accuracy_valid = {average_accuracy_valid}\") #  DICE: {dice_coef}\")      "
   ]
  },
  {
   "cell_type": "code",
   "execution_count": 42,
   "id": "b2d78dfa-1743-4ee3-897e-ce9488d9b537",
   "metadata": {},
   "outputs": [],
   "source": [
    "# images = images.to('cpu')\n",
    "# plt.imshow(images[3, 1, :, :])"
   ]
  },
  {
   "cell_type": "code",
   "execution_count": 43,
   "id": "25523d54-183f-48da-a0a5-38e746453f6b",
   "metadata": {},
   "outputs": [],
   "source": [
    "# labels = labels.to('cpu')\n",
    "# plt.imshow(labels[3, 0, :, :])"
   ]
  },
  {
   "cell_type": "code",
   "execution_count": 45,
   "id": "c15daf7e-cbb9-4e2c-ac97-c8b122347aae",
   "metadata": {},
   "outputs": [
    {
     "data": {
      "text/plain": [
       "<matplotlib.legend.Legend at 0x1240d5373d0>"
      ]
     },
     "execution_count": 45,
     "metadata": {},
     "output_type": "execute_result"
    },
    {
     "data": {
      "image/png": "[encoded data removed]",
      "text/plain": [
       "<Figure size 640x480 with 1 Axes>"
      ]
     },
     "metadata": {},
     "output_type": "display_data"
    }
   ],
   "source": [
    "plt.plot(range(1,success_epoch), train_loss_list, label=\"Training loss\") \n",
    "plt.plot(range(1,success_epoch), valid_loss_list, label=\"Validation loss\") \n",
    "plt.xlabel(\"Number of epochs\") \n",
    "plt.ylabel(\"loss\") \n",
    "plt.legend()"
   ]
  },
  {
   "cell_type": "code",
   "execution_count": 46,
   "id": "8568cd56-b492-444a-af80-c97eba7dc895",
   "metadata": {},
   "outputs": [],
   "source": [
    "folder = r''+folder_path+r'\\Data'\n",
    "\n",
    "test_folder = folder + '\\Test'\n",
    "test_gt_folder = folder + '\\Test_gt'\n",
    "test_results_folder = folder + '\\Test_results'\n",
    "test_results_disk_folder = folder + '\\Test_results_disk'\n",
    "test_results_cup_folder = folder + '\\Test_results_cup'\n",
    "\n",
    "test_files = os.listdir(test_folder)\n",
    "test_gt_files = os.listdir(test_gt_folder)"
   ]
  },
  {
   "cell_type": "code",
   "execution_count": 47,
   "id": "01f1fa64-c372-4d8a-8eb3-ef6963e0f916",
   "metadata": {},
   "outputs": [],
   "source": [
    "images_test = []\n",
    "for file in test_files:\n",
    "    images_test.append(test_folder + \"\\/\" + file)"
   ]
  },
  {
   "cell_type": "code",
   "execution_count": 48,
   "id": "3fd5e791-f4ec-4d86-9908-4a9d60526e5e",
   "metadata": {},
   "outputs": [],
   "source": [
    "images_test_gt = []\n",
    "for file in test_gt_files:\n",
    "    images_test_gt.append(test_gt_folder + \"\\/\" + file)"
   ]
  },
  {
   "cell_type": "code",
   "execution_count": 49,
   "id": "7ac93e04-187f-4a00-8847-3884b185b04c",
   "metadata": {},
   "outputs": [
    {
     "data": {
      "text/plain": [
       "ToTensor()"
      ]
     },
     "execution_count": 49,
     "metadata": {},
     "output_type": "execute_result"
    }
   ],
   "source": [
    "transform"
   ]
  },
  {
   "cell_type": "code",
   "execution_count": 54,
   "id": "508c1572-7a3f-4ff3-870e-6d14388f09a3",
   "metadata": {},
   "outputs": [
    {
     "name": "stdout",
     "output_type": "stream",
     "text": [
      "(3, 512, 512)\n",
      "(512, 512)\n"
     ]
    },
    {
     "data": {
      "image/png": "[encoded data removed]",
      "text/plain": [
       "<Figure size 640x480 with 1 Axes>"
      ]
     },
     "metadata": {},
     "output_type": "display_data"
    }
   ],
   "source": [
    "threshold = 0.5\n",
    "model.eval()\n",
    "with torch.no_grad():\n",
    "    for image in images_test:\n",
    "        filename = os.path.basename(image)\n",
    "        #cropped_image = crop_image(np.array(Image.open(image)), 20, 40)\n",
    "        #image = Image.fromarray(cropped_image)\n",
    "        image = Image.open(image)\n",
    "        orig_image = image\n",
    "        image = image.resize((512, 512), resample=Image.NEAREST)\n",
    "        #image = image.convert('L')\n",
    "        image = transform(image)\n",
    "        image = image/255\n",
    "        image = image.unsqueeze(0)\n",
    "\n",
    "        image = image.to(device) \n",
    "        output = model(image)\n",
    "\n",
    "        output = output.detach().cpu().numpy()[0]\n",
    "        # output = (output[0, :, :])\n",
    "        # output = (output - np.min(output) ) / (np.max(output) - np.min(output))\n",
    "        # output = (output > threshold)\n",
    "        #output = (output[0, :, :] > threshold)\n",
    "    \n",
    "        # output = torch.stack(output).sum(dim=1) > 0\n",
    "        # output = output.detach().cpu().numpy()[0]\n",
    "\n",
    "        # output[0, :, :] = (output[0, :, :] - np.min(output[0, :, :])) / (np.max(output[0, :, :]) - np.min(output[0, :, :]))*255\n",
    "        # output[1, :, :] = (output[1, :, :] - np.min(output[1, :, :])) / (np.max(output[1, :, :]) - np.min(output[1, :, :]))*255\n",
    "        # output[2, :, :] = (output[2, :, :] - np.min(output[2, :, :])) / (np.max(output[2, :, :]) - np.min(output[2, :, :]))*255\n",
    "\n",
    "        #bg = np.copy(output[0, :, :])\n",
    "        # disk = np.copy(output[0, :, :])\n",
    "        # cup = np.copy(output[1, :, :])\n",
    "\n",
    "        # bg[bg > threshold] = 0\n",
    "        # disk[disk> threshold] = 255\n",
    "        # disk[disk<threshold] = 0\n",
    "        #disk[disk < threshold] = 0\n",
    "        # cup[cup > threshold] = 1\n",
    "        # cup[cup < threshold] = 0\n",
    "\n",
    "        # output[0, :, :] = bg\n",
    "        # output[0, :, :] = disk\n",
    "        # output[1, :, :] = cup\n",
    "        \n",
    "        # output = np.transpose(output, (1, 2, 0))\n",
    "        # output = cv2.cvtColor(output, cv2.COLOR_RGB2GRAY)\n",
    "        print(output.shape)\n",
    "        output = np.transpose(output, (1, 2, 0))\n",
    "        \n",
    "        output = torch.from_numpy(output)\n",
    "        \n",
    "        _, predicted_labels = torch.max(output, 2)\n",
    "        prediction = np.copy(predicted_labels)\n",
    "       \n",
    "        prediction[prediction == 0] = 0\n",
    "        prediction[prediction == 1] = 128\n",
    "        prediction[prediction == 2] = 255\n",
    "\n",
    "        # prediction[prediction == 0] = 255\n",
    "        # prediction[prediction == 1] = 0\n",
    "        # prediction[prediction == 2] = 128\n",
    "        \n",
    "        plt.imshow(output[:,:,2])\n",
    "        #plt.imshow(prediction)\n",
    "        print(prediction.shape)\n",
    "        \n",
    "        break\n",
    "        \n",
    "        output_dict = {\"mask\": output}\n",
    "        savemat(test_results_disk_folder + \"\\/\" + filename.strip(\".jpg\") + \".mat\", output_dict)"
   ]
  },
  {
   "cell_type": "code",
   "execution_count": null,
   "id": "916bf436-a395-4198-a18d-33ab9e8ec96d",
   "metadata": {},
   "outputs": [],
   "source": [
    "plt.imshow(orig_image)"
   ]
  },
  {
   "cell_type": "code",
   "execution_count": null,
   "id": "5a46a908-97d4-42d6-9527-d83834948887",
   "metadata": {},
   "outputs": [],
   "source": []
  },
  {
   "cell_type": "code",
   "execution_count": null,
   "id": "696b55bd-f082-46d4-b317-e80d92bd24a4",
   "metadata": {},
   "outputs": [],
   "source": [
    "unique_values, counts = np.unique(predicted_labels, return_counts=True)\n",
    "for value, count in zip(unique_values, counts):\n",
    "    print(str(value) +\":    \"+str(count))"
   ]
  }
 ],
 "metadata": {
  "kernelspec": {
   "display_name": "Python 3 (ipykernel)",
   "language": "python",
   "name": "python3"
  },
  "language_info": {
   "codemirror_mode": {
    "name": "ipython",
    "version": 3
   },
   "file_extension": ".py",
   "mimetype": "text/x-python",
   "name": "python",
   "nbconvert_exporter": "python",
   "pygments_lexer": "ipython3",
   "version": "3.11.4"
  }
 },
 "nbformat": 4,
 "nbformat_minor": 5
}
