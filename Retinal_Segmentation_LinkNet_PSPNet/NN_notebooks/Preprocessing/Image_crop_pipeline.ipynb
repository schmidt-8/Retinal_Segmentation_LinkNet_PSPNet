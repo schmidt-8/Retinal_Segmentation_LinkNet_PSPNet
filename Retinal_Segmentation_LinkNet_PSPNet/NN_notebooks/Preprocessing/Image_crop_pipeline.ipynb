{
 "cells": [
  {
   "cell_type": "code",
   "execution_count": 1,
   "id": "5402a041-c895-458d-a234-a2c1ef6545ac",
   "metadata": {},
   "outputs": [],
   "source": [
    "import cv2\n",
    "import numpy as np\n",
    "from PIL import Image\n",
    "import matplotlib.pyplot as plt\n",
    "from scipy.io import loadmat, savemat\n",
    "from sklearn.model_selection import train_test_split\n",
    "\n",
    "import os\n",
    "import shutil\n",
    "import random"
   ]
  },
  {
   "cell_type": "code",
   "execution_count": 2,
   "id": "1ad7d580-553a-40dc-b45a-9a39ac5f9d96",
   "metadata": {},
   "outputs": [
    {
     "data": {
      "text/plain": [
       "'C:\\\\Users\\\\samko\\\\Desktop\\\\Files\\\\UNI\\\\DP'"
      ]
     },
     "execution_count": 2,
     "metadata": {},
     "output_type": "execute_result"
    }
   ],
   "source": [
    "folder_path = os.path.dirname(os.path.dirname(os.getcwd()))\n",
    "folder_path"
   ]
  },
  {
   "cell_type": "code",
   "execution_count": 2,
   "id": "1e73f743-c639-4a84-b23c-cb0dceaf51cb",
   "metadata": {},
   "outputs": [],
   "source": [
    "def roi_image(image):\n",
    "    gray = cv2.cvtColor(image, cv2.COLOR_BGR2GRAY)\n",
    "    equalized = cv2.equalizeHist(gray)\n",
    "    _, binary = cv2.threshold(equalized, 240, 255, cv2.THRESH_BINARY)\n",
    "    contours, x = cv2.findContours(binary, cv2.RETR_EXTERNAL, cv2.CHAIN_APPROX_SIMPLE)\n",
    "    largest_contour = max(contours, key=cv2.contourArea)\n",
    "    x, y, w, h = cv2.boundingRect(largest_contour)\n",
    "    \n",
    "    return x, y, w, h"
   ]
  },
  {
   "cell_type": "code",
   "execution_count": 3,
   "id": "4a0d645b-6cb9-440b-87ec-aea9f496584e",
   "metadata": {},
   "outputs": [],
   "source": [
    " def crop_image(image, crop_perc_height, crop_perc_width):\n",
    "        '''\n",
    "        Crops the image, cutting from height and width depending on crop_perc.\n",
    "        '''\n",
    "        height, width = image.shape[:2]\n",
    "        h_crop = int((crop_perc_height/100*height)//2)\n",
    "        w_crop = int((crop_perc_width/100*width)//2)\n",
    "        return image[h_crop:(height-h_crop), w_crop:(width-w_crop)]"
   ]
  },
  {
   "cell_type": "code",
   "execution_count": 48,
   "id": "1ef0ba08-91df-4236-8c83-50c8f01c1889",
   "metadata": {},
   "outputs": [],
   "source": [
    "directory_path_labels = r''+folder_path+r'\\Data\\Labels'\n",
    "targer_dir_path_labels = r''+folder_path+r'\\Data\\LabelsCropped'\n",
    "filenames_labels = os.listdir(directory_path_labels)"
   ]
  },
  {
   "cell_type": "code",
   "execution_count": 49,
   "id": "05ad404a-e31c-499b-98f1-d2644145173e",
   "metadata": {},
   "outputs": [],
   "source": [
    "directory_path_images = r''+folder_path+r'\\Data\\Images'\n",
    "targer_dir_path_images = r''+folder_path+r'\\Data\\ImagesCropped'\n",
    "filenames_images = os.listdir(directory_path_images)"
   ]
  },
  {
   "cell_type": "code",
   "execution_count": 50,
   "id": "7b8a038c-3199-430a-a4ac-927de7fe96b6",
   "metadata": {},
   "outputs": [],
   "source": [
    "source_folder = r''+folder_path+r'\\Data'\n",
    "\n",
    "train_image_folder = targer_dir_path_images + \"\\Train\"\n",
    "train_label_folder = targer_dir_path_labels + \"\\Train\"\n",
    "\n",
    "valid_image_folder = targer_dir_path_images + \"\\Valid\"\n",
    "valid_label_folder = targer_dir_path_labels + \"\\Valid\""
   ]
  },
  {
   "cell_type": "code",
   "execution_count": 51,
   "id": "a0ebb53b-ab8c-4c3c-b5ce-7e30a2ab23a7",
   "metadata": {},
   "outputs": [],
   "source": [
    "os.makedirs(train_image_folder, exist_ok=True)\n",
    "os.makedirs(valid_image_folder, exist_ok=True)"
   ]
  },
  {
   "cell_type": "code",
   "execution_count": 52,
   "id": "1646dc47-ec2a-43d3-a9f8-5cbe1626ba6d",
   "metadata": {},
   "outputs": [],
   "source": [
    "os.makedirs(train_label_folder, exist_ok=True)\n",
    "os.makedirs(valid_label_folder, exist_ok=True)"
   ]
  },
  {
   "cell_type": "code",
   "execution_count": 9,
   "id": "a1e271f6-409a-4d39-8ad1-8d7f43632e15",
   "metadata": {
    "scrolled": true
   },
   "outputs": [],
   "source": [
    "for filename_img, filename_lab in zip(filenames_images, filenames_labels):\n",
    "    src_image = directory_path_images +'\\/'+ filename_img\n",
    "    trg_image = targer_dir_path_images + '\\/' + filename_img\n",
    "\n",
    "    src_label = directory_path_labels +'\\/'+ filename_lab\n",
    "    trg_label = targer_dir_path_labels + '\\/' + filename_lab\n",
    "\n",
    "    #print(src_label + \"\\n\" + src_image + \"\\n\")\n",
    "    image = cv2.imread(src_image)\n",
    "    label = loadmat(src_label).get('mask')\n",
    "\n",
    "    # image = crop_image(image, 20, 40)\n",
    "    # label = crop_image(label, 20, 40)\n",
    "    \n",
    "    x, y, w, h = roi_image(image)\n",
    "    if h>w:\n",
    "        cv2.imwrite(trg_image, image[y:y+h, x:x+h])\n",
    "        savemat(trg_label, {'mask':label[y:y+h, x:x+h]})\n",
    "    if w>=h:\n",
    "        cv2.imwrite(trg_image, image[y:y+w, x:x+w])\n",
    "        savemat(trg_label, {'mask':label[y:y+w, x:x+w]})"
   ]
  },
  {
   "cell_type": "code",
   "execution_count": 53,
   "id": "1db41d43-979a-4e52-8a54-099d6ca0d006",
   "metadata": {},
   "outputs": [],
   "source": [
    "file_image_list = os.listdir(targer_dir_path_images)\n",
    "file_label_list = os.listdir(targer_dir_path_labels)"
   ]
  },
  {
   "cell_type": "code",
   "execution_count": 8,
   "id": "4221b30a-7568-47a9-98ec-ef06eac44a05",
   "metadata": {},
   "outputs": [],
   "source": [
    "# total_files = len(file_image_list)\n",
    "\n",
    "# train_size = int(0.75 * total_files)\n",
    "# valid_size = total_files - train_size - 10"
   ]
  },
  {
   "cell_type": "code",
   "execution_count": 54,
   "id": "2f271ccf-8ad9-438e-90d9-2d0ea6fe68f1",
   "metadata": {},
   "outputs": [],
   "source": [
    "file_label_list = file_label_list[:-2]"
   ]
  },
  {
   "cell_type": "code",
   "execution_count": 55,
   "id": "2caa51e8-f143-4c16-800f-6f21af4830d6",
   "metadata": {},
   "outputs": [],
   "source": [
    "file_image_list = file_image_list[:-2]"
   ]
  },
  {
   "cell_type": "code",
   "execution_count": 57,
   "id": "b17e01e4-bb04-4529-8615-4207b229b749",
   "metadata": {},
   "outputs": [
    {
     "data": {
      "text/plain": [
       "'2484.jpg'"
      ]
     },
     "execution_count": 57,
     "metadata": {},
     "output_type": "execute_result"
    }
   ],
   "source": [
    "file_image_list[-1]"
   ]
  },
  {
   "cell_type": "code",
   "execution_count": 58,
   "id": "786ba731-e04c-46d2-8ea0-c27754ba6d22",
   "metadata": {},
   "outputs": [],
   "source": [
    "X_train, X_valid, y_train, y_valid = train_test_split(file_image_list, file_image_list, test_size=0.2, random_state=42)"
   ]
  },
  {
   "cell_type": "code",
   "execution_count": 59,
   "id": "1c1ac4e1-8b7c-41a8-bd13-233deb94e8b5",
   "metadata": {},
   "outputs": [],
   "source": [
    "for file_name in X_train:\n",
    "    src_image_path = os.path.join(targer_dir_path_images, file_name)\n",
    "    src_label_path = os.path.join(targer_dir_path_labels, file_name.replace(\"jpg\", \"mat\"))\n",
    "\n",
    "    dst_image_path = os.path.join(train_image_folder, file_name)\n",
    "    dst_label_path = os.path.join(train_label_folder, file_name.replace(\"jpg\", \"mat\"))\n",
    "    \n",
    "    shutil.copy(src_image_path, dst_image_path)\n",
    "    shutil.copy(src_label_path, dst_label_path)"
   ]
  },
  {
   "cell_type": "code",
   "execution_count": 60,
   "id": "c645291b-0ea7-46fa-ab2b-86df273e5725",
   "metadata": {},
   "outputs": [],
   "source": [
    "for file_name in X_valid:\n",
    "    src_image_path = os.path.join(targer_dir_path_images, file_name)\n",
    "    src_label_path = os.path.join(targer_dir_path_labels, file_name.replace(\"jpg\", \"mat\"))\n",
    "\n",
    "    dst_image_path = os.path.join(valid_image_folder, file_name)\n",
    "    dst_label_path = os.path.join(valid_label_folder, file_name.replace(\"jpg\", \"mat\"))\n",
    "    \n",
    "    shutil.copy(src_image_path, dst_image_path)\n",
    "    shutil.copy(src_label_path, dst_label_path)"
   ]
  },
  {
   "cell_type": "code",
   "execution_count": 9,
   "id": "19c6e049-9701-4e08-823c-7a5b7a439412",
   "metadata": {},
   "outputs": [],
   "source": [
    "# for file_name in file_image_list[:train_size]:\n",
    "#     src_image_path = os.path.join(targer_dir_path_images, file_name)\n",
    "#     src_label_path = os.path.join(targer_dir_path_labels, file_name.replace(\"jpg\", \"mat\"))\n",
    "    \n",
    "#     dst_image_path = os.path.join(train_image_folder, file_name)\n",
    "#     dst_label_path = os.path.join(train_label_folder, file_name.replace(\"jpg\", \"mat\"))\n",
    "    \n",
    "#     shutil.copy(src_image_path, dst_image_path)\n",
    "#     shutil.copy(src_label_path, dst_label_path)"
   ]
  },
  {
   "cell_type": "code",
   "execution_count": 10,
   "id": "24312e6c-b3ad-41e1-8769-909f07a2a29a",
   "metadata": {},
   "outputs": [],
   "source": [
    "for file_name in file_image_list[train_size:train_size + valid_size]:\n",
    "    src_image_path = os.path.join(targer_dir_path_images, file_name)\n",
    "    src_label_path = os.path.join(targer_dir_path_labels, file_name.replace(\"jpg\", \"mat\"))\n",
    "    \n",
    "    dst_image_path = os.path.join(valid_image_folder, file_name)\n",
    "    dst_label_path = os.path.join(valid_label_folder, file_name.replace(\"jpg\", \"mat\"))\n",
    "    \n",
    "    shutil.copy(src_image_path, dst_image_path)\n",
    "    shutil.copy(src_label_path, dst_label_path)"
   ]
  },
  {
   "cell_type": "code",
   "execution_count": 65,
   "id": "760a48fa-86da-438b-ac5e-034ee69b195c",
   "metadata": {},
   "outputs": [
    {
     "ename": "PermissionError",
     "evalue": "[Errno 13] Permission denied: 'C:\\\\Users\\\\samko\\\\Desktop\\\\Files\\\\UNI\\\\DP\\\\Datasets\\\\ORIGA\\\\ImagesCropped\\\\Train'",
     "output_type": "error",
     "traceback": [
      "\u001b[1;31m---------------------------------------------------------------------------\u001b[0m",
      "\u001b[1;31mPermissionError\u001b[0m                           Traceback (most recent call last)",
      "Cell \u001b[1;32mIn[65], line 8\u001b[0m\n\u001b[0;32m      5\u001b[0m dst_image_path \u001b[38;5;241m=\u001b[39m os\u001b[38;5;241m.\u001b[39mpath\u001b[38;5;241m.\u001b[39mjoin(test_image_folder, file_name)\n\u001b[0;32m      6\u001b[0m dst_label_path \u001b[38;5;241m=\u001b[39m os\u001b[38;5;241m.\u001b[39mpath\u001b[38;5;241m.\u001b[39mjoin(test_label_folder, file_name\u001b[38;5;241m.\u001b[39mreplace(\u001b[38;5;124m\"\u001b[39m\u001b[38;5;124mjpg\u001b[39m\u001b[38;5;124m\"\u001b[39m, \u001b[38;5;124m\"\u001b[39m\u001b[38;5;124mmat\u001b[39m\u001b[38;5;124m\"\u001b[39m))\n\u001b[1;32m----> 8\u001b[0m \u001b[43mshutil\u001b[49m\u001b[38;5;241;43m.\u001b[39;49m\u001b[43mcopy\u001b[49m\u001b[43m(\u001b[49m\u001b[43msrc_image_path\u001b[49m\u001b[43m,\u001b[49m\u001b[43m \u001b[49m\u001b[43mdst_image_path\u001b[49m\u001b[43m)\u001b[49m\n\u001b[0;32m      9\u001b[0m shutil\u001b[38;5;241m.\u001b[39mcopy(src_label_path, dst_label_path)\n",
      "File \u001b[1;32m~\\AppData\\Local\\Programs\\Python\\Python311\\Lib\\shutil.py:419\u001b[0m, in \u001b[0;36mcopy\u001b[1;34m(src, dst, follow_symlinks)\u001b[0m\n\u001b[0;32m    417\u001b[0m \u001b[38;5;28;01mif\u001b[39;00m os\u001b[38;5;241m.\u001b[39mpath\u001b[38;5;241m.\u001b[39misdir(dst):\n\u001b[0;32m    418\u001b[0m     dst \u001b[38;5;241m=\u001b[39m os\u001b[38;5;241m.\u001b[39mpath\u001b[38;5;241m.\u001b[39mjoin(dst, os\u001b[38;5;241m.\u001b[39mpath\u001b[38;5;241m.\u001b[39mbasename(src))\n\u001b[1;32m--> 419\u001b[0m \u001b[43mcopyfile\u001b[49m\u001b[43m(\u001b[49m\u001b[43msrc\u001b[49m\u001b[43m,\u001b[49m\u001b[43m \u001b[49m\u001b[43mdst\u001b[49m\u001b[43m,\u001b[49m\u001b[43m \u001b[49m\u001b[43mfollow_symlinks\u001b[49m\u001b[38;5;241;43m=\u001b[39;49m\u001b[43mfollow_symlinks\u001b[49m\u001b[43m)\u001b[49m\n\u001b[0;32m    420\u001b[0m copymode(src, dst, follow_symlinks\u001b[38;5;241m=\u001b[39mfollow_symlinks)\n\u001b[0;32m    421\u001b[0m \u001b[38;5;28;01mreturn\u001b[39;00m dst\n",
      "File \u001b[1;32m~\\AppData\\Local\\Programs\\Python\\Python311\\Lib\\shutil.py:256\u001b[0m, in \u001b[0;36mcopyfile\u001b[1;34m(src, dst, follow_symlinks)\u001b[0m\n\u001b[0;32m    254\u001b[0m     os\u001b[38;5;241m.\u001b[39msymlink(os\u001b[38;5;241m.\u001b[39mreadlink(src), dst)\n\u001b[0;32m    255\u001b[0m \u001b[38;5;28;01melse\u001b[39;00m:\n\u001b[1;32m--> 256\u001b[0m     \u001b[38;5;28;01mwith\u001b[39;00m \u001b[38;5;28mopen\u001b[39m(src, \u001b[38;5;124m'\u001b[39m\u001b[38;5;124mrb\u001b[39m\u001b[38;5;124m'\u001b[39m) \u001b[38;5;28;01mas\u001b[39;00m fsrc:\n\u001b[0;32m    257\u001b[0m         \u001b[38;5;28;01mtry\u001b[39;00m:\n\u001b[0;32m    258\u001b[0m             \u001b[38;5;28;01mwith\u001b[39;00m \u001b[38;5;28mopen\u001b[39m(dst, \u001b[38;5;124m'\u001b[39m\u001b[38;5;124mwb\u001b[39m\u001b[38;5;124m'\u001b[39m) \u001b[38;5;28;01mas\u001b[39;00m fdst:\n\u001b[0;32m    259\u001b[0m                 \u001b[38;5;66;03m# macOS\u001b[39;00m\n",
      "\u001b[1;31mPermissionError\u001b[0m: [Errno 13] Permission denied: 'C:\\\\Users\\\\samko\\\\Desktop\\\\Files\\\\UNI\\\\DP\\\\Datasets\\\\ORIGA\\\\ImagesCropped\\\\Train'"
     ]
    }
   ],
   "source": [
    "for file_name in file_image_list[train_size + valid_size:]:\n",
    "    src_image_path = os.path.join(targer_dir_path_images, file_name)\n",
    "    src_label_path = os.path.join(targer_dir_path_labels, file_name.replace(\"jpg\", \"mat\"))\n",
    "    \n",
    "    dst_image_path = os.path.join(test_image_folder, file_name)\n",
    "    dst_label_path = os.path.join(test_label_folder, file_name.replace(\"jpg\", \"mat\"))\n",
    "    \n",
    "    shutil.copy(src_image_path, dst_image_path)\n",
    "    shutil.copy(src_label_path, dst_label_path)"
   ]
  }
 ],
 "metadata": {
  "kernelspec": {
   "display_name": "Python 3 (ipykernel)",
   "language": "python",
   "name": "python3"
  },
  "language_info": {
   "codemirror_mode": {
    "name": "ipython",
    "version": 3
   },
   "file_extension": ".py",
   "mimetype": "text/x-python",
   "name": "python",
   "nbconvert_exporter": "python",
   "pygments_lexer": "ipython3",
   "version": "3.11.4"
  }
 },
 "nbformat": 4,
 "nbformat_minor": 5
}
